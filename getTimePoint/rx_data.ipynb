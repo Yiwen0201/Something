{
 "cells": [
  {
   "cell_type": "markdown",
   "metadata": {
    "collapsed": false
   },
   "source": [
    "# Description\n",
    "\n",
    "This script imports xlsx files, and do the following things to the data\n",
    "1. Seperate sheets\n",
    "2. Select data in proper time range\n",
    "3. Calculate max value of each set of data, filter out those do not reach threshold\n",
    "4. Calculate baseline using certain data, calculate the criterion \n",
    "5. Find the first time point each set of data reach the criterion\n",
    "6. Plot the average time_point of each group of data with sem as error bar"
   ]
  },
  {
   "cell_type": "code",
   "execution_count": 1,
   "metadata": {
    "collapsed": true
   },
   "outputs": [],
   "source": [
    "import numpy as np\n",
    "import pandas as pd\n",
    "import xlrd\n",
    "import math"
   ]
  },
  {
   "cell_type": "code",
   "execution_count": 2,
   "metadata": {
    "collapsed": false
   },
   "outputs": [],
   "source": [
    "datapath\n",
    "data = pd.ExcelFile(datapath)"
   ]
  },
  {
   "cell_type": "code",
   "execution_count": 3,
   "metadata": {
    "collapsed": false
   },
   "outputs": [],
   "source": [
    "sheets = data.sheet_names\n",
    "threshold = 1.1\n",
    "end_time = 30"
   ]
  },
  {
   "cell_type": "code",
   "execution_count": 4,
   "metadata": {
    "collapsed": false
   },
   "outputs": [
    {
     "name": "stdout",
     "output_type": "stream",
     "text": [
      "6.75225452545\n",
      "3.32932659624\n",
      "4.97459609766\n",
      "4.79459020544\n"
     ]
    }
   ],
   "source": [
    "l = len(sheets)\n",
    "data_dict = {}\n",
    "sem = {}\n",
    "avg = {}\n",
    "\n",
    "for i in xrange(l):\n",
    "    \n",
    "    tmp = data.parse(sheets[i])\n",
    "    col = tmp.columns.values\n",
    "    \n",
    "    max_after = tmp.loc[(tmp[col[0]] >0) & (tmp[col[0]] <= end_time)].max()\n",
    "    max_after = max_after.loc[max_after > threshold].to_frame().transpose()\n",
    "    max_after[col[0]] = \"max\"\n",
    "    \n",
    "    valid_cols = max_after.columns.values\n",
    "\n",
    "    avg4 = tmp.loc[tmp[valid_cols[0]] <= 0, tmp.columns.isin(valid_cols)]\\\n",
    "            .mean().to_frame().transpose()\n",
    "    avg4[col[0]] = \"avg\"\n",
    "    \n",
    "    tmp = tmp.loc[tmp[col[0]] <= end_time, tmp.columns.isin(valid_cols)]\\\n",
    "            .append(avg4, ignore_index = True)\\\n",
    "            .append(max_after, ignore_index = True)\n",
    "\n",
    "    para = max_after.append(avg4, ignore_index = True)\n",
    "    para = para.append((para.ix[0, 1:] - para.ix[1, 1:]) / 2 + para.ix[1, 1:], ignore_index = True)\n",
    "    para.ix[2, 0] = \"threshold\"\n",
    "    \n",
    "    tmp = tmp.append(para, ignore_index = True)\n",
    "    \n",
    "    time_point = {}\n",
    "    for column in valid_cols[1:]:\n",
    "        temp = tmp.ix[:, [valid_cols[0], column]]\n",
    "        value = temp.iloc[-1, 1]\n",
    "        time_point[column] = temp.loc[(temp[valid_cols[0]] > 0) & (temp[column] >= value)].iloc[0, 0]\n",
    "    \n",
    "    select_time = pd.DataFrame([time_point])\n",
    "    tmp = tmp.append(select_time, ignore_index = True)\n",
    "    tmp.iloc[-1, 0] = \"first_time_point\"\n",
    "    \n",
    "\n",
    "\n",
    "    data_dict[sheets[i]] = tmp\n",
    "    \n",
    "    std = select_time.std(axis = 1).values[0]\n",
    "    print std\n",
    "    sem[sheets[i]] = std / math.sqrt(select_time.count(axis = 1).values[0])\n",
    "    avg[sheets[i]] = select_time.mean(axis = 1).values[0]\n",
    "    \n",
    "    filename = sheets[i] + '_time_point.csv'\n",
    "    select_time.to_csv(filename, sep='\\t')\n",
    "    \n",
    "    filename2 = sheets[i] + '_filtered_data.csv'\n",
    "    \n",
    "    data_dict[sheets[i]].to_csv(filename2, sep='\\t')"
   ]
  },
  {
   "cell_type": "code",
   "execution_count": 5,
   "metadata": {
    "collapsed": false
   },
   "outputs": [
    {
     "data": {
      "text/plain": [
       "{u'J.Cam_ERK BS_LckKR': 0.90609238014704907,\n",
       " u'J.Cam_ERK_BS': 0.94550475342767326,\n",
       " u'J.Cam_ERK_BS_LckWT': 0.70981481529965995,\n",
       " u'J.Cam_ERK_BS_LckYF': 0.68985235787814148}"
      ]
     },
     "execution_count": 5,
     "metadata": {},
     "output_type": "execute_result"
    }
   ],
   "source": [
    "sem"
   ]
  },
  {
   "cell_type": "code",
   "execution_count": 6,
   "metadata": {
    "collapsed": false
   },
   "outputs": [
    {
     "data": {
      "text/plain": [
       "{u'J.Cam_ERK BS_LckKR': 12.107142857142858,\n",
       " u'J.Cam_ERK_BS': 12.352941176470589,\n",
       " u'J.Cam_ERK_BS_LckWT': 6.6818181818181817,\n",
       " u'J.Cam_ERK_BS_LckYF': 6.8076923076923075}"
      ]
     },
     "execution_count": 6,
     "metadata": {},
     "output_type": "execute_result"
    }
   ],
   "source": [
    "avg"
   ]
  },
  {
   "cell_type": "code",
   "execution_count": 7,
   "metadata": {
    "collapsed": true
   },
   "outputs": [],
   "source": [
    "import numpy as np\n",
    "import pylab as pl\n",
    "%matplotlib inline\n",
    "import matplotlib"
   ]
  },
  {
   "cell_type": "code",
   "execution_count": 8,
   "metadata": {
    "collapsed": false
   },
   "outputs": [
    {
     "data": {
      "image/png": "[encoded data removed]",
      "text/plain": [
       "<matplotlib.figure.Figure at 0x10aa69990>"
      ]
     },
     "metadata": {},
     "output_type": "display_data"
    }
   ],
   "source": [
    "X = np.arange(len(avg))\n",
    "pl.bar(X, avg.values(), align='center', width=0.3, yerr=sem.values(),\\\n",
    "        color='grey',\\\n",
    "        error_kw=dict(ecolor='red', lw=3, capsize=4, capthick=2))\n",
    "pl.xticks(X, avg.keys())\n",
    "ymax = max(avg.values()) + 1.5\n",
    "pl.ylim(0, ymax)\n",
    "pl.xticks(rotation=45)\n",
    "pl.show()"
   ]
  }
 ],
 "metadata": {
  "kernelspec": {
   "display_name": "Python 2",
   "language": "python",
   "name": "python2"
  },
  "language_info": {
   "codemirror_mode": {
    "name": "ipython",
    "version": 2
   },
   "file_extension": ".py",
   "mimetype": "text/x-python",
   "name": "python",
   "nbconvert_exporter": "python",
   "pygments_lexer": "ipython2",
   "version": "2.7.11"
  }
 },
 "nbformat": 4,
 "nbformat_minor": 0
}
