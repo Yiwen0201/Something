{
 "cells": [
  {
   "cell_type": "code",
   "execution_count": 1,
   "metadata": {
    "collapsed": false
   },
   "outputs": [],
   "source": [
    "import numpy as np\n",
    "import pandas as pd\n",
    "import xlrd\n",
    "import math"
   ]
  },
  {
   "cell_type": "code",
   "execution_count": 2,
   "metadata": {
    "collapsed": false
   },
   "outputs": [],
   "source": [
    "data = pd.ExcelFile(\"./ERK.xlsx\")"
   ]
  },
  {
   "cell_type": "code",
   "execution_count": 3,
   "metadata": {
    "collapsed": false
   },
   "outputs": [],
   "source": [
    "sheets = data.sheet_names\n",
    "threshold = 1.1\n",
    "end_time = 30"
   ]
  },
  {
   "cell_type": "code",
   "execution_count": 4,
   "metadata": {
    "collapsed": false
   },
   "outputs": [
    {
     "name": "stdout",
     "output_type": "stream",
     "text": [
      "   s10  s11   s12  s13  s14  s15  s17  s18   s2  s22 ...    s26  s37  s38  \\\n",
      "0  6.0  6.0  18.0  6.0  3.0  3.0  3.0  3.0  9.0  6.0 ...   12.0  9.0  3.0   \n",
      "\n",
      "    s4   s47   s48  s49   s5   s8   s9  \n",
      "0  6.0  27.0  27.0  3.0  6.0  6.0  6.0  \n",
      "\n",
      "[1 rows x 23 columns]\n"
     ]
    }
   ],
   "source": [
    "l = len(sheets)\n",
    "data_dict = {}\n",
    "sem = {}\n",
    "avg = {}\n",
    "time_dict = {}\n",
    "\n",
    "for i in xrange(l):\n",
    "    \n",
    "    tmp = data.parse(sheets[i])\n",
    "    col = tmp.columns.values\n",
    "    \n",
    "    max_after = tmp.loc[(tmp[col[0]] >0) & (tmp[col[0]] <= end_time)].max()\n",
    "    max_after = max_after.loc[max_after > threshold].to_frame().transpose()\n",
    "    max_after[col[0]] = \"max\"\n",
    "    \n",
    "    valid_cols = max_after.columns.values\n",
    "\n",
    "    avg4 = tmp.loc[tmp[valid_cols[0]] <= 0, tmp.columns.isin(valid_cols)]\\\n",
    "            .mean().to_frame().transpose()\n",
    "    avg4[col[0]] = \"avg\"\n",
    "    \n",
    "    tmp = tmp.loc[tmp[col[0]] <= end_time, tmp.columns.isin(valid_cols)]\\\n",
    "            .append(avg4, ignore_index = True)\\\n",
    "            .append(max_after, ignore_index = True)\n",
    "\n",
    "    para = max_after.append(avg4, ignore_index = True)\n",
    "    para = para.append((para.ix[0, 1:] - para.ix[1, 1:]) / 2 + para.ix[1, 1:], ignore_index = True)\n",
    "    para.ix[2, 0] = \"threshold\"\n",
    "    \n",
    "    tmp = tmp.append(para, ignore_index = True)\n",
    "    \n",
    "    time_point = {}\n",
    "    for column in valid_cols[1:]:\n",
    "        temp = tmp.ix[:, [valid_cols[0], column]]\n",
    "        value = temp.iloc[-1, 1]\n",
    "        time_point[column] = temp.loc[(temp[valid_cols[0]] > 0) & (temp[column] >= value)].iloc[0, 0]\n",
    "    \n",
    "    select_time = pd.DataFrame([time_point])\n",
    "    tmp = tmp.append(select_time, ignore_index = True)\n",
    "    tmp.iloc[-1, 0] = \"first_time_point\"\n",
    "    \n",
    "    time_dict[sheets[i]] = select_time\n",
    "\n",
    "    data_dict[sheets[i]] = tmp\n",
    "    \n",
    "    std = select_time.std(axis = 1).values[0]\n",
    "#     print std\n",
    "    sem[sheets[i]] = std / math.sqrt(select_time.count(axis = 1).values[0])\n",
    "    avg[sheets[i]] = select_time.mean(axis = 1).values[0]\n",
    "    \n",
    "    filename = sheets[i] + '_time_point.csv'\n",
    "    select_time.to_csv(filename, sep='\\t')\n",
    "    \n",
    "    if(i == 3):\n",
    "        print select_time\n",
    "    \n",
    "    filename2 = sheets[i] + '_filtered_data.csv'\n",
    "    \n",
    "    data_dict[sheets[i]].to_csv(filename2, sep='\\t')"
   ]
  },
  {
   "cell_type": "code",
   "execution_count": 5,
   "metadata": {
    "collapsed": false
   },
   "outputs": [
    {
     "data": {
      "text/plain": [
       "{u'KR': 0.83315667577124386,\n",
       " u'WT': 1.4293825797184645,\n",
       " u'YF': 0.60704779026755318,\n",
       " u'countrol': 0.83349679682782185}"
      ]
     },
     "execution_count": 5,
     "metadata": {},
     "output_type": "execute_result"
    }
   ],
   "source": [
    "sem"
   ]
  },
  {
   "cell_type": "code",
   "execution_count": 6,
   "metadata": {
    "collapsed": false
   },
   "outputs": [
    {
     "data": {
      "text/plain": [
       "{u'KR': 13.232142857142858,\n",
       " u'WT': 8.0869565217391308,\n",
       " u'YF': 6.145161290322581,\n",
       " u'countrol': 12.096774193548388}"
      ]
     },
     "execution_count": 6,
     "metadata": {},
     "output_type": "execute_result"
    }
   ],
   "source": [
    "avg"
   ]
  },
  {
   "cell_type": "code",
   "execution_count": 7,
   "metadata": {
    "collapsed": true
   },
   "outputs": [],
   "source": [
    "import numpy as np\n",
    "import pylab as pl\n",
    "%matplotlib inline\n",
    "import matplotlib"
   ]
  },
  {
   "cell_type": "code",
   "execution_count": 38,
   "metadata": {
    "collapsed": false
   },
   "outputs": [
    {
     "data": {
      "image/png": "[encoded data removed]",
      "text/plain": [
       "<matplotlib.figure.Figure at 0x10cfd3e90>"
      ]
     },
     "metadata": {},
     "output_type": "display_data"
    }
   ],
   "source": [
    "X = np.arange(len(avg))\n",
    "pl.bar(X, avg.values(), align='center', width=0.4, yerr=sem.values(),\\\n",
    "        color=['#ffd700', '#c0c0c0', '#cd9932', '#008080'],\\\n",
    "        error_kw=dict(ecolor='red', lw=3, capsize=4, capthick=2),linewidth = 0)\n",
    "pl.xticks(X, avg.keys())\n",
    "ymax = max(avg.values()) + 1.5\n",
    "pl.ylim(0, ymax)\n",
    "# pl.xticks(rotation=45)\n",
    "pl.grid(False)\n",
    "# pl.figure(figsize=(20,20))\n",
    "pl.show()"
   ]
  },
  {
   "cell_type": "code",
   "execution_count": 10,
   "metadata": {
    "collapsed": false
   },
   "outputs": [],
   "source": [
    "import pandas as pd\n",
    "import seaborn as sns\n",
    "sns.set(style=\"whitegrid\", palette=\"muted\")\n"
   ]
  },
  {
   "cell_type": "code",
   "execution_count": 46,
   "metadata": {
    "collapsed": false
   },
   "outputs": [
    {
     "data": {
      "image/png": "[encoded data removed]",
      "text/plain": [
       "<matplotlib.figure.Figure at 0x10d2e7d10>"
      ]
     },
     "metadata": {},
     "output_type": "display_data"
    }
   ],
   "source": [
    "col = ['treatment', 'value']\n",
    "time_data = pd.DataFrame(columns = col)\n",
    "for key in time_dict.keys():\n",
    "    L = time_dict[key].values[0]\n",
    "    L = [(key, num) for num in L]\n",
    "    df = pd.DataFrame(L, columns = col)\n",
    "    time_data = time_data.append(df)\n",
    "\n",
    "sns.swarmplot(x=\"treatment\", y=\"value\", data=time_data)\n",
    "sns.boxplot(x=\"treatment\", y=\"value\", data = time_data, color = \"white\")\n",
    "pl.show()"
   ]
  },
  {
   "cell_type": "code",
   "execution_count": null,
   "metadata": {
    "collapsed": true
   },
   "outputs": [],
   "source": []
  }
 ],
 "metadata": {
  "kernelspec": {
   "display_name": "Python 2",
   "language": "python",
   "name": "python2"
  },
  "language_info": {
   "codemirror_mode": {
    "name": "ipython",
    "version": 2
   },
   "file_extension": ".py",
   "mimetype": "text/x-python",
   "name": "python",
   "nbconvert_exporter": "python",
   "pygments_lexer": "ipython2",
   "version": "2.7.11"
  }
 },
 "nbformat": 4,
 "nbformat_minor": 0
}
